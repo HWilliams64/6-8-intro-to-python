{
 "cells": [
  {
   "cell_type": "markdown",
   "metadata": {},
   "source": [
    "## Drawing a half circle\n",
    "\n",
    "Let's discuss how to draw a half circle. First, let's reexamine the the\n",
    "`circle()` function. We know that if we give the `circle()` function an argument\n",
    "it will use that argument as the radius. Let's try giving the `circle()`\n",
    "function a second argument like this:\n",
    "\n",
    "```python\n",
    "\n",
    "radius = 80\n",
    "degrees = round(360/2)\n",
    "\n",
    "squirtle.circle(radius, degrees)\n",
    "```\n",
    "\n",
    "Notice on the line that starts with `degrees` we are asking python to do math\n",
    "for us and then put the result in a variable. Before we discuss whats happening\n",
    "programmatically let's run the code below to see it in action. "
   ]
  },
  {
   "cell_type": "code",
   "execution_count": null,
   "metadata": {},
   "outputs": [],
   "source": [
    "from mobilechelonian import Turtle\n",
    "\n",
    "squirtle = Turtle()\n",
    "pen_color = \"blue\"\n",
    "degrees = round(360/2)\n",
    "radius = 80\n",
    "\n",
    "squirtle.pencolor(pen_color)\n",
    "squirtle.circle(radius, degrees)\n"
   ]
  },
  {
   "cell_type": "markdown",
   "metadata": {},
   "source": [
    "## How does this work?\n",
    "\n",
    "```python\n",
    "degrees = round(360/2)\n",
    "```\n",
    "\n",
    "Let's break down the line of code above.\n",
    "\n",
    "We want squirtle to walk in a half circle. There are 360 degrees in\n",
    "a circle, so if squirtle is to walk half of the circle, he only needs to walk\n",
    "half of 360 degrees. We can figure out what half of 360 degrees is dividing it\n",
    "by 2. We don't need to know the answer to `360/2` because we can ask python to\n",
    "solve it for us. Run the code below and take a look at the result below the cell.\n",
    "Notice how it says `180.0` "
   ]
  },
  {
   "cell_type": "code",
   "execution_count": null,
   "metadata": {},
   "outputs": [],
   "source": [
    "360/2"
   ]
  },
  {
   "cell_type": "markdown",
   "metadata": {},
   "source": [
    "Use the code cell below to figure out what the answer to `12738/4748` is. "
   ]
  },
  {
   "cell_type": "code",
   "execution_count": null,
   "metadata": {},
   "outputs": [],
   "source": [
    "# Write you math calculations here"
   ]
  },
  {
   "cell_type": "markdown",
   "metadata": {},
   "source": [
    "Notice how the answer has a lot of numbers after the decimal point. This type of\n",
    "number is known as a `float` in python. A `float` data types are similar `integer` to  not whole\n",
    "numbers, but if different than a\n",
    "`integer` because Sometimes we\n",
    "don't care about how precise the answer is, so we can use the `round()` function\n",
    "to tell python to round to the nearest whole number. \n",
    "\n",
    "Take your formula from the code cell above and put it into the `round()`\n",
    "function below so it looks something like this:\n",
    "\n",
    "```python\n",
    "round(12738/4748)\n",
    "```"
   ]
  },
  {
   "cell_type": "code",
   "execution_count": null,
   "metadata": {},
   "outputs": [],
   "source": [
    "# Place the rounding code here \n",
    "round(12738/4748)\n"
   ]
  },
  {
   "cell_type": "markdown",
   "metadata": {},
   "source": [
    "Now that you've run the code you will see that it prints `3` instead of\n",
    "`2.682...` this is because the `round()` function rounds the number argument to\n",
    "the nearest integer. \n",
    "\n",
    "```python\n",
    "degrees = round(360/2)\n",
    "```\n",
    "\n",
    "As you can see in the code from earlier. Once the `round()` function completes\n",
    "rounding the number we put the result in a variable called `degrees`.\n",
    "\n",
    "```python\n",
    "squirtle.circle(radius, degrees)\n",
    "```\n",
    "\n",
    "When we use the `degrees` variable as the second argument in the `circle()`\n",
    "function you tell squirtle to only walk that many degrees. If we don't use a\n",
    "second argument squirtle will walk the entire circle, all 360 degrees. To get a\n",
    "better understanding of how the degrees works take a look at the animation\n",
    "below.\n",
    "\n",
    "<img src=\"./img/circle_radius.gif\" alt=\"drawing\" width=\"300\"/>\n",
    "\n",
    "In the animation above, `s` represents the `degrees` in circle squirtle will\n",
    "walk. Remember `r` represents the radius of the circle. The radius of the circle\n",
    "is the distance from the center of the circle to the the edge.\n",
    "\n",
    "In the code cell below, try out what happens when you change the degrees formula\n",
    "to `360*2` or `45+30` or try your own formula."
   ]
  },
  {
   "cell_type": "code",
   "execution_count": null,
   "metadata": {},
   "outputs": [],
   "source": [
    "from mobilechelonian import Turtle\n",
    "\n",
    "squirtle = Turtle()\n",
    "pen_color = \"blue\"\n",
    "degrees = round(360/2)\n",
    "radius = 80\n",
    "\n",
    "squirtle.pencolor(pen_color)\n",
    "squirtle.circle(radius, degrees)\n"
   ]
  },
  {
   "cell_type": "markdown",
   "metadata": {},
   "source": [
    "# Coding Challenge 1\n",
    "\n",
    "Take what you've learned about circle degrees and finish the code below so\n",
    "squirtle draws a circle with 2 different colors like the image below:\n",
    "\n",
    "<img\n",
    "src=\"./img/02_q1.png\"\n",
    "alt=\"drawing\" width=\"200\"/>"
   ]
  },
  {
   "cell_type": "code",
   "execution_count": null,
   "metadata": {},
   "outputs": [],
   "source": [
    "from mobilechelonian import Turtle\n",
    "\n",
    "squirtle = Turtle()\n",
    "pen_color = \"blue\"\n",
    "degrees = round(360/2)\n",
    "radius = 80\n",
    "\n",
    "squirtle.pencolor(pen_color)\n",
    "squirtle.circle(radius, degrees)\n"
   ]
  },
  {
   "cell_type": "markdown",
   "metadata": {},
   "source": [
    "# Coding Challenge 2\n",
    "\n",
    "Starting with the code below, make squirtle create a backwards \"S\" with two different colors.\n",
    "\n",
    "<img\n",
    "src=\"./img/02_q2.png\"\n",
    "alt=\"drawing\" width=\"200\"/>\n"
   ]
  },
  {
   "cell_type": "code",
   "execution_count": null,
   "metadata": {},
   "outputs": [],
   "source": [
    "from mobilechelonian import Turtle\n",
    "\n",
    "squirtle = Turtle()\n",
    "pen_color = \"blue\"\n",
    "degrees = round(360/2)\n",
    "radius = 80\n",
    "\n",
    "squirtle.pencolor(pen_color)\n",
    "squirtle.circle(radius, degrees)\n"
   ]
  }
 ],
 "metadata": {
  "kernelspec": {
   "display_name": "Python 3.8.10 ('.venv': venv)",
   "language": "python",
   "name": "python3"
  },
  "language_info": {
   "codemirror_mode": {
    "name": "ipython",
    "version": 3
   },
   "file_extension": ".py",
   "mimetype": "text/x-python",
   "name": "python",
   "nbconvert_exporter": "python",
   "pygments_lexer": "ipython3",
   "version": "3.8.10"
  },
  "orig_nbformat": 4,
  "vscode": {
   "interpreter": {
    "hash": "65d994a2586566578e6f5f03c290bfd0b2867c7905a9622796af24a8a04596a2"
   }
  }
 },
 "nbformat": 4,
 "nbformat_minor": 2
}
