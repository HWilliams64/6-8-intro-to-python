{
 "cells": [
  {
   "cell_type": "markdown",
   "metadata": {},
   "source": [
    "# Variables\n",
    "\n",
    "Let's start off by creating a variable. A variable is used to\n",
    "hold information in a computer program. You can think of a variable like a\n",
    "bucket. \n",
    "\n",
    "<img src=\"./img/candy_bucket.gif\" alt=\"drawing\" width=\"200\"/>\n",
    "\n",
    "In side of the bucket we put candy. Inside of a variable we put computer data.\n",
    "\n",
    "To create a variable we have to do 3 things:\n",
    "\n",
    "1) Type in the name of the variable\n",
    "2) After the variable's name, type in an equals symbol `=` \n",
    "3) After the `=` type in the data to be added to the variable\n",
    "\n",
    "```python\n",
    "candy_bucket = \"Reese's peanut butter cup\"\n",
    "```\n",
    "\n",
    "In the example above we create a variable named `candy_bucket` that holds a\n",
    "string that says `\"Reese's peanut butter cup\"`.\n",
    "\n",
    "A variable name cannot have any spaces in it or else python will think it's\n",
    "separate words. If your variable has more then one words, use the underscore\n",
    "symbol `_` instead of a space. \n",
    "\n",
    "Notice the words \"Reese's peanut butter cup\" are in double quotes after the `=`\n",
    "sign. We need to use double quotes to tell python that those words are a string\n",
    "(text) instead of other python code.\n",
    "\n",
    "In the code cell below, finish creating the variable by creating a string with your\n",
    "favorite candy 🍬 🍫. "
   ]
  },
  {
   "cell_type": "code",
   "execution_count": null,
   "metadata": {},
   "outputs": [],
   "source": [
    "candy_bucket ="
   ]
  },
  {
   "cell_type": "markdown",
   "metadata": {},
   "source": [
    "## Changing the speed\n",
    "\n",
    "In the code below we create two variables. The first is named `squirtle`, this\n",
    "variable holds the turtle, and the second variable is named `squirtle_speed` and\n",
    "this holds the speed that squirtle will move. \n",
    "\n",
    "To run the code press the play button <img src=\"./img/play-button.png\" alt=\"drawing\" width=\"25\"/> to the left of the\n",
    "code cell. Notice how much faster squirtle moves. \n",
    "\n",
    "What happens if you change `squirtle_speed` to equal to 5? \n",
    "\n",
    "What happens if you change `squirtle_speed` to equal to 10? "
   ]
  },
  {
   "cell_type": "code",
   "execution_count": null,
   "metadata": {},
   "outputs": [],
   "source": [
    "from mobilechelonian import Turtle\n",
    "\n",
    "squirtle = Turtle()\n",
    "squirtle_speed = 1\n",
    "\n",
    "squirtle.speed(squirtle_speed)\n",
    "squirtle.forward(100)"
   ]
  },
  {
   "cell_type": "markdown",
   "metadata": {},
   "source": [
    "## How does this work?\n",
    "\n",
    "Lets look at the following lines from the code above:\n",
    "\n",
    "```python\n",
    "squirtle_speed = 1\n",
    "\n",
    "squirtle.speed(squirtle_speed)\n",
    "```\n",
    "\n",
    "First we create a variable named \"squirtle_speed\" that holds a number. Notice\n",
    "that numbers are different than stings because numbers do not have quotes. More\n",
    "precisely, this type of variable is called an integer. An integer can only hold\n",
    "whole number values.\n",
    "\n",
    "Next, the `speed()` function takes an argument that is a number and uses that number to\n",
    "set the turtles speed.\n",
    "\n",
    "**WARNING**: `var_1 = 1` and `var_2 = \"1\"` are NOT the same. `var_1` is an integer\n",
    "and `var_2` is a string. `var_2` is a string because it has quotes. "
   ]
  },
  {
   "cell_type": "markdown",
   "metadata": {},
   "source": [
    "# Changing the line color\n",
    "\n",
    "In the code below, you will see we changed the line color to red."
   ]
  },
  {
   "cell_type": "code",
   "execution_count": null,
   "metadata": {},
   "outputs": [],
   "source": [
    "from mobilechelonian import Turtle\n",
    "\n",
    "squirtle = Turtle()\n",
    "squirtle_speed = 5\n",
    "pen_color = \"red\"\n",
    "\n",
    "squirtle.pencolor(pen_color)\n",
    "squirtle.speed(squirtle_speed)\n",
    "squirtle.forward(100)"
   ]
  },
  {
   "cell_type": "markdown",
   "metadata": {},
   "source": [
    "## How does this work?\n",
    "\n",
    "```python\n",
    "pen_color = \"red\"\n",
    "```\n",
    "\n",
    "In the code above we are creating a variable named \"pen_color\" which will hold a\n",
    "string with the text \"red\".\n",
    "\n",
    "```python\n",
    "squirtle.pencolor(pen_color)\n",
    "```\n",
    "\n",
    "To change the color of the pen from black to red we use the `pen_color` variable\n",
    "as an argument in the `pencolor()` function.\n",
    "\n",
    "Keep in mind that if we call the `pencolor()` function again with a different\n",
    "color, after squirtle's next move the color will change. \n",
    "\n",
    "### Try it out\n",
    "\n",
    "Modify the code below to make squirtle move 10 feet forward with a red pen, then\n",
    "move another 4 feet forward with a blue pen, then another 10 feet with a green\n",
    "pen."
   ]
  },
  {
   "cell_type": "code",
   "execution_count": null,
   "metadata": {},
   "outputs": [],
   "source": [
    "from mobilechelonian import Turtle\n",
    "\n",
    "squirtle = Turtle()\n",
    "squirtle_speed = 5\n",
    "pen_color = \"red\"\n",
    "\n",
    "squirtle.pencolor(pen_color)\n",
    "squirtle.speed(squirtle_speed)\n",
    "squirtle.forward(10)"
   ]
  },
  {
   "cell_type": "markdown",
   "metadata": {},
   "source": [
    "# Drawing a circle\n",
    "\n",
    "In the code below we tell squirtle to draw a circle. "
   ]
  },
  {
   "cell_type": "code",
   "execution_count": null,
   "metadata": {},
   "outputs": [],
   "source": [
    "from mobilechelonian import Turtle\n",
    "\n",
    "squirtle = Turtle()\n",
    "squirtle_speed = 5\n",
    "pen_color = \"orange\"\n",
    "radius = 80\n",
    "\n",
    "squirtle.pencolor(pen_color)\n",
    "squirtle.circle(radius)\n",
    "squirtle.left(90)\n",
    "\n",
    "squirtle.pencolor(\"blue\")\n",
    "squirtle.forward(radius)\n"
   ]
  },
  {
   "cell_type": "markdown",
   "metadata": {},
   "source": [
    "## How does this work?\n",
    "\n",
    "```python\n",
    "radius = 80\n",
    "\n",
    "squirtle.circle(radius)\n",
    "```\n",
    "\n",
    "These lines of code tell squirtle to walk in a circle with a radius of 80. What\n",
    "is a radius? Let's look at the animation below:\n",
    "\n",
    "<img src=\"./img/circle_radius.gif\" alt=\"drawing\" width=\"300\"/>\n",
    "\n",
    "In the animation above the line labeled `r` is the radius of the circle. You can think\n",
    "of the radius as the distance between the center of the circle and the edge.\n",
    "\n",
    "In the code above we tell squirtle to walk 80 feet from the center of the circle. \n",
    "\n",
    "\n",
    "```python\n",
    "squirtle.left(90)\n",
    "```\n",
    "\n",
    "After squirtle is finished walking in the circle, we tell him to turn\n",
    "left 90 degrees. \n",
    "\n",
    "```python\n",
    "squirtle.pencolor(\"blue\")\n",
    "squirtle.forward(radius)\n",
    "```\n",
    "Then change his pen color to blue.\n",
    "\n",
    "Finally walk forward the\n",
    "same number of steps as the circle's radius. "
   ]
  },
  {
   "cell_type": "markdown",
   "metadata": {},
   "source": [
    "# Coding Challenge 1\n",
    "\n",
    "Using the code below make squirtle create another smaller red circle after he\n",
    "walks forward inside the larger circle. The result of your code should look like\n",
    "the image below:\n",
    "\n",
    "<img\n",
    "src=\"./img/01_q1.png\"\n",
    "alt=\"drawing\" width=\"200\"/>"
   ]
  },
  {
   "cell_type": "code",
   "execution_count": null,
   "metadata": {},
   "outputs": [],
   "source": [
    "from mobilechelonian import Turtle\n",
    "\n",
    "squirtle = Turtle()\n",
    "pen_color = \"orange\"\n",
    "radius = 80\n",
    "\n",
    "squirtle.pencolor(pen_color)\n",
    "squirtle.circle(radius)\n",
    "squirtle.left(90)\n",
    "\n",
    "squirtle.pencolor(\"blue\")\n",
    "squirtle.forward(radius)"
   ]
  },
  {
   "cell_type": "markdown",
   "metadata": {},
   "source": [
    "# Coding Challenge 2\n",
    "\n",
    "Create two variables named `circle_color_1` and `circle_color_2`. Give\n",
    "`circle_color_1` any color string you'd like. Do the same for `circle_color_2` but\n",
    "make sure the color is different from `circle_color_1`. Now make squirtle draw\n",
    "two circles like the image below with the colors you saved in the\n",
    "`circle_color_1` and `circle_color_2` variables (The colors do not have to match). \n",
    "\n",
    "<img\n",
    "src=\"./img/01_q2.png\"\n",
    "alt=\"drawing\" width=\"200\"/>\n",
    "\n",
    "*Hint make squirtle turn around 180 degrees after drawing the first circle.*"
   ]
  },
  {
   "cell_type": "code",
   "execution_count": null,
   "metadata": {},
   "outputs": [],
   "source": [
    "from mobilechelonian import Turtle\n",
    "squirtle = Turtle()"
   ]
  },
  {
   "cell_type": "markdown",
   "metadata": {},
   "source": [
    "# Coding Challenge 3 (Hard)\n",
    "\n",
    "Create two variables named `circle_color_1` and `circle_color_2`. Give\n",
    "`circle_color_1` any color string you'd like. Do the same for `circle_color_2` but\n",
    "make sure the color is different from `circle_color_1`. Now make squirtle draw\n",
    "two circles like the image below with the colors you saved in the\n",
    "`circle_color_1` and `circle_color_2` variables (The colors do not have to match). \n",
    "\n",
    "<img\n",
    "src=\"./img/01_q3.png\"\n",
    "alt=\"drawing\" width=\"250\"/>"
   ]
  },
  {
   "cell_type": "code",
   "execution_count": null,
   "metadata": {},
   "outputs": [],
   "source": [
    "from mobilechelonian import Turtle\n",
    "squirtle = Turtle()"
   ]
  }
 ],
 "metadata": {
  "kernelspec": {
   "display_name": "Python 3.8.10 ('.venv': venv)",
   "language": "python",
   "name": "python3"
  },
  "language_info": {
   "codemirror_mode": {
    "name": "ipython",
    "version": 3
   },
   "file_extension": ".py",
   "mimetype": "text/x-python",
   "name": "python",
   "nbconvert_exporter": "python",
   "pygments_lexer": "ipython3",
   "version": "3.8.10"
  },
  "orig_nbformat": 4,
  "vscode": {
   "interpreter": {
    "hash": "65d994a2586566578e6f5f03c290bfd0b2867c7905a9622796af24a8a04596a2"
   }
  }
 },
 "nbformat": 4,
 "nbformat_minor": 2
}
