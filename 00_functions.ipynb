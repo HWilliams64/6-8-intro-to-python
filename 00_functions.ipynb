{
 "cells": [
  {
   "cell_type": "markdown",
   "metadata": {},
   "source": [
    "# Create a turtle\n",
    "\n",
    "<img src=\"./img/turtle.gif\" alt=\"drawing\" width=\"200\"/>\n",
    "\n",
    "In this section, we will learn how to use python code to draw a turtle and\n",
    "then we will create code to move the turtle around the screen.\n",
    "\n",
    "The code in the cell below will draw a turtle on the screen. To run the code,\n",
    "hover your mouse over the code, then press the play button <img src=\"./img/play-button.png\" alt=\"drawing\" width=\"21\"/> to the left of the code cell."
   ]
  },
  {
   "cell_type": "code",
   "execution_count": null,
   "metadata": {},
   "outputs": [],
   "source": [
    "!pip -q install mobilechelonian\n",
    "\n",
    "from mobilechelonian import Turtle\n",
    "squirtle = Turtle()"
   ]
  },
  {
   "cell_type": "markdown",
   "metadata": {},
   "source": [
    "## How does this work?\n",
    "\n",
    "Let's walk through code above.\n",
    "\n",
    "```python\n",
    "from mobilechelonian import Turtle\n",
    "```\n",
    "This code tells python to load other code so we can use it later in our\n",
    "application. This process is known as *importing*. Specifically, we are\n",
    "importing the `Turtle` class so we can use it in our code to draw the turtle on\n",
    "the screen. \n",
    "\n",
    "```python\n",
    "squirtle = Turtle()\n",
    "```\n",
    "\n",
    "This code will use the `Turtle` class we imported earlier to create a turtle on\n",
    "the screen. \n",
    "\n",
    "When we write `Turtle()` we are telling python to create a turtle. In this case `Turtle` is a\n",
    "function and when you type parentheses `()` after a function's name its known as\n",
    "*calling* or *invoking* the function. When you call the `Turtle()` function\n",
    "python will create a turtle. \n",
    "\n",
    "Now that python has created a turtle for us we want to save it for later. So we\n",
    "give it the name `squirtle`.  The code `squirtle =` tells python that\n",
    "the new turtle we created is now named `squirtle`. Later on we will be able to\n",
    "tell `squirtle` what to do by mentioning his name. "
   ]
  },
  {
   "cell_type": "markdown",
   "metadata": {},
   "source": [
    "# Move the turtle\n",
    "\n",
    "In the code cell below, we tell `squirtle` to take 100 steps forward. \n",
    "\n",
    "To see the turtle move, press the play button <img src=\"./img/play-button.png\"\n",
    "alt=\"drawing\" width=\"21\"/> then press the turtle. "
   ]
  },
  {
   "cell_type": "code",
   "execution_count": null,
   "metadata": {},
   "outputs": [],
   "source": [
    "from mobilechelonian import Turtle\n",
    "squirtle = Turtle()\n",
    "squirtle.forward(100)"
   ]
  },
  {
   "cell_type": "markdown",
   "metadata": {},
   "source": [
    "## How does this work?\n",
    "\n",
    "```python\n",
    "from mobilechelonian import Turtle\n",
    "squirtle = Turtle()\n",
    "```\n",
    "\n",
    "Remember that the first two lines import the code we use to draw a turtle then\n",
    "we use the `Turtle()` function to create a turtle and name it `squirtle`. Let's\n",
    "learn about the next line of code.\n",
    "\n",
    "```python\n",
    "squirtle.forward(100)\n",
    "```\n",
    "\n",
    "This code tells `squirtle` to take 100 steps forward. Notice that we are using a\n",
    "function called `forward()`. This function is a little different than the\n",
    "`Turtle()` function. The `Turtle()` creates a new turtle for us and the\n",
    "`forward()` function tells the turtle to move forward 100 steps. Then number\n",
    "`100` inside the parentheses of the `forward()` function tells the forward\n",
    "function how many steps to move forward.\n",
    "\n",
    "The `forward()` function comes after squirtle because we need to tell python to\n",
    "tell squirtle to move forward. If we just wrote `forward()` with out squirtle in\n",
    "front python would not know who to tell to move forward. \n",
    "\n",
    "Squirtle and `forward()` ar separated by a period `.` because squirtle is a separate\n",
    "object from `forward()`. If we wrote `squirtleforward()`, python would try to\n",
    "invoke a function named `squirtleforward()` does not exist.\n",
    "\n",
    "### Try it out\n",
    "\n",
    "Change the code in the cell below to make squirtle move forward 50 steps.\n",
    "\n",
    "Then run the code to check it out. \n",
    "\n",
    "Next try making him move 1000 steps forward... What happens?"
   ]
  },
  {
   "cell_type": "code",
   "execution_count": null,
   "metadata": {},
   "outputs": [],
   "source": [
    "from mobilechelonian import Turtle\n",
    "squirtle = Turtle()\n",
    "squirtle.forward(100)"
   ]
  },
  {
   "cell_type": "markdown",
   "metadata": {},
   "source": [
    "# Creating a dotted line\n",
    "\n",
    "In the example below we tell squirtle to create a dashed line."
   ]
  },
  {
   "cell_type": "code",
   "execution_count": null,
   "metadata": {},
   "outputs": [],
   "source": [
    "from mobilechelonian import Turtle\n",
    "squirtle = Turtle()\n",
    "squirtle.forward(10)\n",
    "squirtle.penup()\n",
    "squirtle.forward(10)\n",
    "squirtle.pendown()\n",
    "squirtle.forward(10)\n",
    "squirtle.penup()\n",
    "squirtle.forward(10)\n",
    "squirtle.pendown()\n"
   ]
  },
  {
   "cell_type": "markdown",
   "metadata": {},
   "source": [
    "# How does this work? \n",
    "\n",
    "```python\n",
    "from mobilechelonian import Turtle\n",
    "squirtle = Turtle()\n",
    "squirtle.forward(10)\n",
    "```\n",
    "\n",
    "The code above creates a turtle named \"squirtle\" then tells squirtle to take\n",
    "10 steps forward.\n",
    "\n",
    "```python\n",
    "squirtle.penup()\n",
    "```\n",
    "\n",
    "The next line of code tell squirtle to stop drawing. In other words, pick up the\n",
    "pen from the canvas. Now the next time we tell squirtle to move no line will be\n",
    "drawn.\n",
    "\n",
    "```python\n",
    "squirtle.forward(10)\n",
    "```\n",
    "\n",
    "In this line of code, squirtle will move 10 more feet forward. But no line will\n",
    "be drawn because in the previous line of code we told him to stop drawing when we\n",
    "called the `penup()` function. \n",
    "\n",
    "```python\n",
    "squirtle.pendown()\n",
    "```\n",
    "\n",
    "In this line of code we tell him to start drawing again. The `pendown()`\n",
    "function tells squirtle to put the pen down on the canvas. Now any moves after\n",
    "this line of code will cause squirtle to draw again.\n",
    "\n",
    "```python\n",
    "squirtle.forward(10)\n",
    "```\n",
    "\n",
    "Now squirtle will move forward 10 feet and draw a line. \n"
   ]
  },
  {
   "cell_type": "markdown",
   "metadata": {},
   "source": [
    "# Function arguments\n",
    "\n",
    "Let's look the following code again:\n",
    "\n",
    "```python\n",
    "squirtle.forward(100)\n",
    "```\n",
    "\n",
    "The number `100` is known as an *argument*. A function's arguments are the\n",
    "inputted data that a function uses to preform an action. Not all functions accept\n",
    "arguments. In this case, the `forward()` function needs to know how many steps squirtle\n",
    "should move forward so we need to give it a number as an *argument*.\n",
    "\n",
    "<img\n",
    "src=\"https://cdn-wordpress-info.futurelearn.com/info/wp-content/uploads/1-3-IPO-Star-1.gif\"\n",
    "alt=\"drawing\" width=\"500\"/>\n",
    "\n",
    "In the animation above, the machine is like a function in python. The machine\n",
    "accepts one star as an *argument*. Then the machine returns two stars as an\n",
    "output. "
   ]
  },
  {
   "cell_type": "markdown",
   "metadata": {},
   "source": [
    "# Turn the turtle\n",
    "\n",
    "Now lets make squirtle turn right and move down the screen. "
   ]
  },
  {
   "cell_type": "code",
   "execution_count": null,
   "metadata": {},
   "outputs": [],
   "source": [
    "from mobilechelonian import Turtle\n",
    "squirtle = Turtle()\n",
    "squirtle.forward(100)\n",
    "squirtle.right(90)\n",
    "squirtle.forward(100)"
   ]
  },
  {
   "cell_type": "markdown",
   "metadata": {},
   "source": [
    "## How does this work?\n",
    "\n",
    "So you already know that this code,\n",
    "\n",
    "```python\n",
    "from mobilechelonian import Turtle\n",
    "squirtle = Turtle()\n",
    "squirtle.forward(100)\n",
    "```\n",
    "\n",
    "Creates a turtle named \"squirtle\" then tells the squirtle to take 100 steps\n",
    "forward. The code below tells the squirtle to turn to the right and move forward\n",
    "further.\n",
    "\n",
    "```python\n",
    "squirtle.right(90)\n",
    "squirtle.forward(100)\n",
    "```\n",
    "\n",
    "The code above tells squirtle to turn 90 degrees to the right. The function\n",
    "`right()` is similar to the `forward()` function except it turns squirtle a\n",
    "particular number of degrees to the right. In this case we are telling\n",
    "squirtle turn 90 degrees. Notice the number 90 as an argument in the `right()`\n",
    "function.\n",
    "\n",
    "After squirtle has turned 90 degrees, we tell squirtle to move forward 100 steps\n",
    "again."
   ]
  },
  {
   "cell_type": "markdown",
   "metadata": {},
   "source": [
    "# Coding Challenge 1\n",
    "\n",
    "Use the code below to tell squirtle to draw a square. When you are done,\n",
    "squirtle should draw a shape that looks like the image below:\n",
    "\n",
    "<img\n",
    "src=\"./img/00_q1.png\"\n",
    "alt=\"drawing\" width=\"200\"/>"
   ]
  },
  {
   "cell_type": "code",
   "execution_count": null,
   "metadata": {},
   "outputs": [],
   "source": [
    "from mobilechelonian import Turtle\n",
    "squirtle = Turtle()\n",
    "squirtle.forward(100)\n",
    "squirtle.right(90)\n",
    "squirtle.forward(100)"
   ]
  },
  {
   "cell_type": "markdown",
   "metadata": {},
   "source": [
    "# Coding Challenge 2\n",
    "\n",
    "Now make squirtle create an octagon (A 8 sided shape). In the code cell below\n",
    "write code the tells squirtle to draw a octagon. When you are done, squirtle\n",
    "should draw a shape that looks like the image below:\n",
    "\n",
    "<img\n",
    "src=\"./img/00_q2.png\"\n",
    "alt=\"drawing\" width=\"200\"/>\n",
    "\n",
    "*Hint try using a smaller number for the angle argument*"
   ]
  },
  {
   "cell_type": "code",
   "execution_count": null,
   "metadata": {},
   "outputs": [],
   "source": [
    "from mobilechelonian import Turtle\n",
    "squirtle = Turtle()"
   ]
  },
  {
   "cell_type": "markdown",
   "metadata": {},
   "source": [
    "# Coding Challenge 3\n",
    "\n",
    "Make squirtle walk in the same shape as the square from challenge 1 but only\n",
    "draw to sides. When you are done, squirtle should draw a shape that looks like the\n",
    "image below:\n",
    "\n",
    "<img\n",
    "src=\"./img/00_q3.png\"\n",
    "alt=\"drawing\" width=\"200\"/>\n"
   ]
  },
  {
   "cell_type": "code",
   "execution_count": null,
   "metadata": {},
   "outputs": [],
   "source": [
    "from mobilechelonian import Turtle\n",
    "squirtle = Turtle()"
   ]
  },
  {
   "cell_type": "markdown",
   "metadata": {},
   "source": [
    "# Coding Challenge 4 (Hard)\n",
    "\n",
    "Make squirtl draw a shape that looks like the image below:\n",
    "\n",
    "<img\n",
    "src=\"./img/00_q4.png\"\n",
    "alt=\"drawing\" width=\"200\"/>\n",
    "\n",
    "*Hint: This is the same shape at the square in challenge 1 but squirtle only\n",
    "walks half the distance for each side with his pen down.*"
   ]
  },
  {
   "cell_type": "code",
   "execution_count": null,
   "metadata": {},
   "outputs": [],
   "source": [
    "from mobilechelonian import Turtle\n",
    "squirtle = Turtle()"
   ]
  },
  {
   "cell_type": "markdown",
   "metadata": {},
   "source": [
    "# More Functions\n",
    "\n",
    "Here are accouple more funcitons you can use to make squirtle do more things\n",
    "\n",
    "| Function name | Description | Example |\n",
    "|---------------| ------------|---------|\n",
    "| `forward()`  | Tells the turtle move forward the certain number of steps | `squirtle.forward(20)` |\n",
    "| `backward()`  | Tells the turtle move backwards the certain number of steps | `squirtle.backward(20)` |\n",
    "| `right()`  | Tells the turtle turn right a number of degrees | `squirtle.right(64)` |\n",
    "| `left()`  | Tells the turtle turn left a number of degrees | `squirtle.left(46)` |\n",
    "| `setpos()`  | Tells the turtle move position x, y | `squirtle.setpos(23, 32)` |\n",
    "| `home()`  | Tells the turtle go back to the place it started | `squirtle.home()` |\n",
    "| `undo()`  | Tells the turtle undo the last action it performed | `squirtle.undo()` |\n",
    "| `speed()`  | Sets the speed of the turtle. 1 is slow 100 is fastest. | `squirtle.speed(20)` |"
   ]
  }
 ],
 "metadata": {
  "kernelspec": {
   "display_name": "Python 3.8.10 ('.venv': venv)",
   "language": "python",
   "name": "python3"
  },
  "language_info": {
   "codemirror_mode": {
    "name": "ipython",
    "version": 3
   },
   "file_extension": ".py",
   "mimetype": "text/x-python",
   "name": "python",
   "nbconvert_exporter": "python",
   "pygments_lexer": "ipython3",
   "version": "3.8.10"
  },
  "orig_nbformat": 4,
  "vscode": {
   "interpreter": {
    "hash": "65d994a2586566578e6f5f03c290bfd0b2867c7905a9622796af24a8a04596a2"
   }
  }
 },
 "nbformat": 4,
 "nbformat_minor": 2
}
